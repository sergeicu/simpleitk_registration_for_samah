{
 "cells": [
  {
   "cell_type": "markdown",
   "metadata": {},
   "source": [
    "# Purpose: Apply simulated motion to image and register back using SimpleITK "
   ]
  },
  {
   "cell_type": "code",
   "execution_count": 1,
   "metadata": {},
   "outputs": [],
   "source": [
    "import os"
   ]
  },
  {
   "cell_type": "code",
   "execution_count": 2,
   "metadata": {},
   "outputs": [],
   "source": [
    "import numpy as np\n",
    "import SimpleITK as sitk"
   ]
  },
  {
   "cell_type": "code",
   "execution_count": 3,
   "metadata": {},
   "outputs": [],
   "source": [
    "# import serge's libraries \n",
    "from compare_transforms import create_slice_timing,construct_transform, view_transform,apply_slicetiming_to_volume"
   ]
  },
  {
   "cell_type": "markdown",
   "metadata": {},
   "source": [
    "# Load image"
   ]
  },
  {
   "cell_type": "code",
   "execution_count": 4,
   "metadata": {},
   "outputs": [],
   "source": [
    "# load volume \n",
    "rootdir=\"\"\n",
    "f=rootdir+'Vol0V_sq.nii.gz'\n",
    "moving_image = sitk.ReadImage(f, sitk.sitkFloat32)"
   ]
  },
  {
   "cell_type": "code",
   "execution_count": 5,
   "metadata": {},
   "outputs": [
    {
     "data": {
      "text/plain": [
       "(70, 100, 100)"
      ]
     },
     "execution_count": 5,
     "metadata": {},
     "output_type": "execute_result"
    }
   ],
   "source": [
    "moving_image.GetSize()"
   ]
  },
  {
   "cell_type": "code",
   "execution_count": 6,
   "metadata": {},
   "outputs": [],
   "source": [
    "slices=moving_image.GetSize()[0]"
   ]
  },
  {
   "cell_type": "code",
   "execution_count": 7,
   "metadata": {},
   "outputs": [],
   "source": [
    "savedir=\"moved/\""
   ]
  },
  {
   "cell_type": "code",
   "execution_count": 8,
   "metadata": {},
   "outputs": [],
   "source": [
    "os.makedirs(savedir,exist_ok=True)"
   ]
  },
  {
   "cell_type": "code",
   "execution_count": 9,
   "metadata": {},
   "outputs": [],
   "source": [
    "sliceTiming=create_slice_timing(slices=slices)"
   ]
  },
  {
   "cell_type": "markdown",
   "metadata": {},
   "source": [
    "# Construct transform"
   ]
  },
  {
   "cell_type": "code",
   "execution_count": 17,
   "metadata": {},
   "outputs": [],
   "source": [
    "parameters=np.load('tgt_rigid.npy')"
   ]
  },
  {
   "cell_type": "code",
   "execution_count": 18,
   "metadata": {},
   "outputs": [
    {
     "data": {
      "text/plain": [
       "array([-0.24010571,  0.14154703, -0.43887999,  0.04845157,  0.00330419,\n",
       "       -0.00676707])"
      ]
     },
     "execution_count": 18,
     "metadata": {},
     "output_type": "execute_result"
    }
   ],
   "source": [
    "parameters"
   ]
  },
  {
   "cell_type": "code",
   "execution_count": 19,
   "metadata": {},
   "outputs": [],
   "source": [
    "ground_truth = sitk.Euler3DTransform()  # For 3D rigid registration"
   ]
  },
  {
   "cell_type": "code",
   "execution_count": 23,
   "metadata": {},
   "outputs": [],
   "source": [
    "ground_truth=construct_transform([0,0,0,0,0,0]) "
   ]
  },
  {
   "cell_type": "code",
   "execution_count": 24,
   "metadata": {},
   "outputs": [],
   "source": [
    "ground_truth.SetParameters(parameters)"
   ]
  },
  {
   "cell_type": "code",
   "execution_count": 25,
   "metadata": {},
   "outputs": [
    {
     "name": "stdout",
     "output_type": "stream",
     "text": [
      "Translation in mm  in x,y,z:\t\t\t 0.05 | 0.0 | -0.01\n",
      "Rotation    in deg in x,y,z:\t\t\t -13.76 | 8.11 | -25.15\n"
     ]
    }
   ],
   "source": [
    "view_transform(ground_truth)"
   ]
  },
  {
   "cell_type": "code",
   "execution_count": 26,
   "metadata": {},
   "outputs": [],
   "source": [
    "# create N transforms that are ALL equal (since slices do no move independently in this example)\n",
    "transforms=[ground_truth]*len(sliceTiming)"
   ]
  },
  {
   "cell_type": "markdown",
   "metadata": {},
   "source": [
    "# Simulate motion"
   ]
  },
  {
   "cell_type": "code",
   "execution_count": 27,
   "metadata": {},
   "outputs": [],
   "source": [
    "fixed_image=apply_slicetiming_to_volume(transforms, sliceTiming, moving_image, interpolator=sitk.sitkLinear, slice_index=0)"
   ]
  },
  {
   "cell_type": "code",
   "execution_count": 28,
   "metadata": {},
   "outputs": [],
   "source": [
    "# Iterate through the slices and set odd-indexed slices to zero\n",
    "for z in range(slices):\n",
    "    if z % 2 != 0:\n",
    "        # Set the slice to zero\n",
    "        fixed_image[z, :, :] = 0\n",
    "\n"
   ]
  },
  {
   "cell_type": "code",
   "execution_count": 29,
   "metadata": {},
   "outputs": [],
   "source": [
    "sitk.WriteImage(fixed_image, savedir+\"slices_moved_v4.nii.gz\")"
   ]
  },
  {
   "cell_type": "markdown",
   "metadata": {},
   "source": [
    "# Register"
   ]
  },
  {
   "cell_type": "code",
   "execution_count": 30,
   "metadata": {},
   "outputs": [],
   "source": [
    "moving_image = sitk.Cast(moving_image, fixed_image.GetPixelID())\n"
   ]
  },
  {
   "cell_type": "code",
   "execution_count": 31,
   "metadata": {},
   "outputs": [],
   "source": [
    "registration_method = sitk.ImageRegistrationMethod()\n"
   ]
  },
  {
   "cell_type": "code",
   "execution_count": 32,
   "metadata": {},
   "outputs": [],
   "source": [
    "# Set the similarity metric (mean squares) and interpolator (linear)\n",
    "registration_method.SetMetricAsMeanSquares()\n",
    "registration_method.SetInterpolator(sitk.sitkLinear)"
   ]
  },
  {
   "cell_type": "code",
   "execution_count": 33,
   "metadata": {},
   "outputs": [],
   "source": [
    "# Create a rigid transformation\n",
    "rigid_transform = sitk.Euler3DTransform()  # For 3D rigid registration\n",
    "\n",
    "# Set the initial parameters for the rigid transformation\n",
    "rigid_transform.SetIdentity()\n",
    "registration_method.SetInitialTransform(rigid_transform)"
   ]
  },
  {
   "cell_type": "code",
   "execution_count": 34,
   "metadata": {},
   "outputs": [],
   "source": [
    "# Set the transform type (rigid)\n",
    "registration_method.SetOptimizerAsRegularStepGradientDescent(learningRate=2.0, minStep=1e-4, numberOfIterations=200)"
   ]
  },
  {
   "cell_type": "code",
   "execution_count": 35,
   "metadata": {},
   "outputs": [],
   "source": [
    "# Perform the registration\n",
    "final_transform = registration_method.Execute(fixed_image, moving_image)"
   ]
  },
  {
   "cell_type": "code",
   "execution_count": 36,
   "metadata": {},
   "outputs": [
    {
     "data": {
      "text/plain": [
       "(-0.2442302871244388,\n",
       " 0.14660441715027997,\n",
       " -0.43915126544800354,\n",
       " -0.06284612068891579,\n",
       " -0.017519912907873438,\n",
       " 0.031039574656177005)"
      ]
     },
     "execution_count": 36,
     "metadata": {},
     "output_type": "execute_result"
    }
   ],
   "source": [
    "final_transform.GetParameters()"
   ]
  },
  {
   "cell_type": "code",
   "execution_count": 37,
   "metadata": {},
   "outputs": [],
   "source": [
    "# make it viewable - must make it Eulear\n",
    "final_transform_viewable = sitk.Euler3DTransform()  # For 3D rigid registration\n",
    "final_transform_viewable.SetParameters(final_transform.GetParameters())"
   ]
  },
  {
   "cell_type": "code",
   "execution_count": 38,
   "metadata": {},
   "outputs": [
    {
     "name": "stdout",
     "output_type": "stream",
     "text": [
      "Translation in mm  in x,y,z:\t\t\t -0.06 | -0.02 | 0.03\n",
      "Rotation    in deg in x,y,z:\t\t\t -13.99 | 8.4 | -25.16\n"
     ]
    }
   ],
   "source": [
    "view_transform(final_transform_viewable)"
   ]
  },
  {
   "cell_type": "code",
   "execution_count": 40,
   "metadata": {},
   "outputs": [
    {
     "name": "stdout",
     "output_type": "stream",
     "text": [
      "Translation in mm  in x,y,z:\t\t\t 0.05 | 0.0 | -0.01\n",
      "Rotation    in deg in x,y,z:\t\t\t -13.76 | 8.11 | -25.15\n"
     ]
    }
   ],
   "source": [
    "view_transform(ground_truth)"
   ]
  },
  {
   "cell_type": "code",
   "execution_count": 41,
   "metadata": {},
   "outputs": [],
   "source": [
    "# Resample the moving image using the final transform\n",
    "resampled_image = sitk.Resample(fixed_image,moving_image, final_transform.GetInverse(), sitk.sitkLinear, 0.0)\n",
    "\n",
    "# Save the registered image\n",
    "sitk.WriteImage(resampled_image, savedir+\"slices_moved_v4_back.nii.gz\")"
   ]
  },
  {
   "cell_type": "code",
   "execution_count": 42,
   "metadata": {},
   "outputs": [],
   "source": [
    "# in itksnap \n",
    "# itksnap -g Vol0V_sq.nii.gz -o moved/slices_moved_v4.nii.gz moved/slices_moved_v4_back.nii.gz "
   ]
  },
  {
   "cell_type": "markdown",
   "metadata": {},
   "source": [
    "## To improve on resampling results "
   ]
  },
  {
   "cell_type": "code",
   "execution_count": null,
   "metadata": {},
   "outputs": [],
   "source": [
    "# take single slice out of volume and consider sitk image with single slice only (instead of volume) - then resample... \n",
    "# this will prevent from black gaps to appear in between linear interp"
   ]
  }
 ],
 "metadata": {
  "kernelspec": {
   "display_name": "Python 3",
   "language": "python",
   "name": "python3"
  },
  "language_info": {
   "codemirror_mode": {
    "name": "ipython",
    "version": 3
   },
   "file_extension": ".py",
   "mimetype": "text/x-python",
   "name": "python",
   "nbconvert_exporter": "python",
   "pygments_lexer": "ipython3",
   "version": "3.8.6"
  }
 },
 "nbformat": 4,
 "nbformat_minor": 4
}
